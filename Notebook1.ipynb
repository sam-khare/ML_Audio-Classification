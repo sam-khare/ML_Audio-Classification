{
  "nbformat": 4,
  "nbformat_minor": 0,
  "metadata": {
    "colab": {
      "name": "Notebook1.ipynb",
      "provenance": [],
      "collapsed_sections": []
    },
    "kernelspec": {
      "name": "python3",
      "display_name": "Python 3"
    },
    "language_info": {
      "name": "python"
    }
  },
  "cells": [
    {
      "cell_type": "markdown",
      "source": [
        "# 1 Author\n",
        "\n",
        " Samarth Khare                                               \n"
      ],
      "metadata": {
        "id": "gTDU0gawzY4c"
      }
    },
    {
      "cell_type": "markdown",
      "source": [
        "# 2 Problem formulation\n",
        "\n",
        "A Machine learning pipeline needs to be build,using the MLEnd Hums and Whistles dataset, which takes Potter or Starwars audio and predict its song label."
      ],
      "metadata": {
        "id": "0oTPxZORzaXj"
      }
    },
    {
      "cell_type": "markdown",
      "source": [
        "# 3 Machine Learning pipeline\n",
        "\n",
        "I have used 219 wav audio files of Potter and Starwars song to build pipeline and validate chosen model.Since raw audio signals are made up of thousands of dimensions, but due to limited no. of training data and computation power,pipeline transformed each audio signal into 4 dimension and 1 corresponding label by  extracting same features that we used in starter kit namely Power,Pitch mean,Pitch standard deviation,Fraction of voiced region."
      ],
      "metadata": {
        "id": "DyfBA6NKzdkE"
      }
    },
    {
      "cell_type": "markdown",
      "source": [
        "# 4 Transformation stage\n",
        "\n",
        "In transformation stage, I used four features namely Power,Pitch mean,Pitch standard deviation,Fraction of voiced region of every audio signal. which is used as predictor."
      ],
      "metadata": {
        "id": "2OENa6kEzjH-"
      }
    },
    {
      "cell_type": "markdown",
      "source": [
        "# 5 Modelling\n",
        "While I tried to train different models like SVM, KNN, Random Forest classifier with multiple combination of predictors  like the one present in the starter kit or mfcc or combination of both but validation accuracy was looming in between 40-60% for all the classifier mentioned. finally I have chosen KNN since its validation accuracy was bit better than the rest. "
      ],
      "metadata": {
        "id": "51w3vwlFzkHX"
      }
    },
    {
      "cell_type": "markdown",
      "source": [
        "# 6 Methodology\n",
        "\n",
        "I have divided the data into training and testing set , and using accuracy to asses model performance."
      ],
      "metadata": {
        "id": "PfkX2F-pzrLe"
      }
    },
    {
      "cell_type": "markdown",
      "source": [
        "#Code"
      ],
      "metadata": {
        "id": "h7rQZa033qQe"
      }
    },
    {
      "cell_type": "code",
      "execution_count": null,
      "metadata": {
        "colab": {
          "base_uri": "https://localhost:8080/"
        },
        "id": "tjl2YCiazPgs",
        "outputId": "bb5d1866-fb18-461c-91be-4f4f1d712ee8"
      },
      "outputs": [
        {
          "output_type": "stream",
          "name": "stdout",
          "text": [
            "Mounted at /content/drive\n"
          ]
        }
      ],
      "source": [
        "from google.colab import drive\n",
        "import numpy as np\n",
        "import pandas as pd\n",
        "import matplotlib.pyplot as plt\n",
        "\n",
        "import os, sys, re, pickle, glob\n",
        "import urllib.request\n",
        "\n",
        "import IPython.display as ipd\n",
        "from tqdm import tqdm\n",
        "import librosa\n",
        "\n",
        "drive.mount('/content/drive')"
      ]
    },
    {
      "cell_type": "markdown",
      "source": [
        "Below code shows us the count of audio files present in given folder"
      ],
      "metadata": {
        "id": "SZ7kNurW6VyM"
      }
    },
    {
      "cell_type": "code",
      "source": [
        "files_path = '/content/drive/MyDrive/basic/MLEndHW/sample2/*.wav'\n",
        "files = glob.glob(files_path)\n",
        "print(\"Number of Audio files :\" ,len(files))"
      ],
      "metadata": {
        "colab": {
          "base_uri": "https://localhost:8080/"
        },
        "id": "dOgPxIGY6YJ0",
        "outputId": "5dccc5e5-0f19-44a7-d7c1-fd459a41f62d"
      },
      "execution_count": null,
      "outputs": [
        {
          "output_type": "stream",
          "name": "stdout",
          "text": [
            "Number of Audio files : 219\n"
          ]
        }
      ]
    },
    {
      "cell_type": "markdown",
      "source": [
        "creating a list containing files name and song name"
      ],
      "metadata": {
        "id": "o-N8XB_L0Slo"
      }
    },
    {
      "cell_type": "code",
      "source": [
        "MLENDHW_table = [] \n",
        "\n",
        "for file in files:\n",
        "  file_name = file.split('/')[-1]\n",
        "  song = file.split('/')[-1].split('_')[3].split('.')[0]\n",
        "  MLENDHW_table.append([file_name, song])\n",
        "\n",
        "MLENDHW_table"
      ],
      "metadata": {
        "colab": {
          "base_uri": "https://localhost:8080/"
        },
        "id": "P0bugaUB6dFB",
        "outputId": "41d4d765-346c-47d9-afe0-1cb617588656"
      },
      "execution_count": null,
      "outputs": [
        {
          "output_type": "execute_result",
          "data": {
            "text/plain": [
              "[['S24_whistle_2_Potter.wav', 'Potter'],\n",
              " ['S29_whistle_2_Potter.wav', 'Potter'],\n",
              " ['S34_whistle_2_Potter.wav', 'Potter'],\n",
              " ['S32_whistle_2_Potter.wav', 'Potter'],\n",
              " ['S40_whistle_2_Potter.wav', 'Potter'],\n",
              " ['S39_whistle_2_Potter.wav', 'Potter'],\n",
              " ['S43_whistle_2_Potter.wav', 'Potter'],\n",
              " ['S45_whistle_2_Potter.wav', 'Potter'],\n",
              " ['S44_whistle_2_Potter.wav', 'Potter'],\n",
              " ['S48_Whistle_2_Potter.wav', 'Potter'],\n",
              " ['S50_whistle_2_Potter.wav', 'Potter'],\n",
              " ['S52_whistle_2_Potter.wav', 'Potter'],\n",
              " ['S54_whistle_2_Potter.wav', 'Potter'],\n",
              " ['S56_whistle_2_Potter.wav', 'Potter'],\n",
              " ['S57_whistle_2_Potter.wav', 'Potter'],\n",
              " ['S64_whistle_2_Potter.wav', 'Potter'],\n",
              " ['S66_whistle_2_Potter.wav', 'Potter'],\n",
              " ['S67_whistle_2_Potter.wav', 'Potter'],\n",
              " ['S68_whistle_2_Potter.wav', 'Potter'],\n",
              " ['S72_whistle_2_Potter.wav', 'Potter'],\n",
              " ['S76_whistle_2_Potter.wav', 'Potter'],\n",
              " ['S75_whistle_2_Potter.wav', 'Potter'],\n",
              " ['S77_whistle_2_Potter.wav', 'Potter'],\n",
              " ['S80_whistle_2_Potter.wav', 'Potter'],\n",
              " ['S78_whistle_2_Potter.wav', 'Potter'],\n",
              " ['S80_hum_2_Potter.wav', 'Potter'],\n",
              " ['S78_hum_2_Potter.wav', 'Potter'],\n",
              " ['S85_hum_1_Potter.wav', 'Potter'],\n",
              " ['S84_hum_1_Potter.wav', 'Potter'],\n",
              " ['S86_hum_1_Potter.wav', 'Potter'],\n",
              " ['S85_hum_2_Potter.wav', 'Potter'],\n",
              " ['S86_hum_2_Potter.wav', 'Potter'],\n",
              " ['S84_hum_2_Potter.wav', 'Potter'],\n",
              " ['S87_hum_2_Potter.wav', 'Potter'],\n",
              " ['S89_hum_2_Potter.wav', 'Potter'],\n",
              " ['S89_whistle_2_Potter.wav', 'Potter'],\n",
              " ['S90_hum_2_Potter.wav', 'Potter'],\n",
              " ['S87_whistle_2_Potter.wav', 'Potter'],\n",
              " ['S91_whistle_2_Potter.wav', 'Potter'],\n",
              " ['S90_whistle_2_Potter.wav', 'Potter'],\n",
              " ['S92_Hum_2_Potter.wav', 'Potter'],\n",
              " ['S92_Whistle_2_Potter.wav', 'Potter'],\n",
              " ['S93_hum_2_Potter.wav', 'Potter'],\n",
              " ['S95_Hum_2_Potter.wav', 'Potter'],\n",
              " ['S94_hum_2_Potter.wav', 'Potter'],\n",
              " ['S95_Whistle_2_Potter.wav', 'Potter'],\n",
              " ['S93_whistle_2_Potter.wav', 'Potter'],\n",
              " ['S94_hum_1_Potter.wav', 'Potter'],\n",
              " ['S101_hum_2_Potter.wav', 'Potter'],\n",
              " ['S101_hum_1_Potter.wav', 'Potter'],\n",
              " ['S97_hum_1_Potter.wav', 'Potter'],\n",
              " ['S97_hum_2_Potter.wav', 'Potter'],\n",
              " ['S102_hum_2_Potter.wav', 'Potter'],\n",
              " ['S102_whistle_2_Potter.wav', 'Potter'],\n",
              " ['S103_hum_2_Potter.wav', 'Potter'],\n",
              " ['S104_Hum_1_Potter.wav', 'Potter'],\n",
              " ['S104_Hum_2_Potter.wav', 'Potter'],\n",
              " ['S107_hum_2_Potter.wav', 'Potter'],\n",
              " ['S103_whistle_2_Potter.wav', 'Potter'],\n",
              " ['S108_hum_2_Potter.wav', 'Potter'],\n",
              " ['S111_hum_1_Potter.wav', 'Potter'],\n",
              " ['S107_whistle_2_Potter.wav', 'Potter'],\n",
              " ['S110_hum_2_Potter.wav', 'Potter'],\n",
              " ['S111_hum_2_Potter.wav', 'Potter'],\n",
              " ['S114_hum_1_Potter.wav', 'Potter'],\n",
              " ['S110_hum_1_Potter.wav', 'Potter'],\n",
              " ['S115_hum_2_Potter.wav', 'Potter'],\n",
              " ['S114_hum_2_Potter.wav', 'Potter'],\n",
              " ['S203_whistle_2_Potter.wav', 'Potter'],\n",
              " ['S206_hum_1_Potter.wav', 'Potter'],\n",
              " ['S202_hum_2_Potter.wav', 'Potter'],\n",
              " ['S204_whistle_2_Potter.wav', 'Potter'],\n",
              " ['S206_hum_2_Potter.wav', 'Potter'],\n",
              " ['S205_Hum_1_Potter.wav', 'Potter'],\n",
              " ['S205_Hum_2_Potter.wav', 'Potter'],\n",
              " ['S202_hum_1_Potter.wav', 'Potter'],\n",
              " ['S203_hum_2_Potter.wav', 'Potter'],\n",
              " ['S204_hum_2_Potter.wav', 'Potter'],\n",
              " ['S207_whistle_2_Potter.wav', 'Potter'],\n",
              " ['S210_hum_2_Potter.wav', 'Potter'],\n",
              " ['S209_whistle_2_Potter.wav', 'Potter'],\n",
              " ['S208_hum_2_Potter.wav', 'Potter'],\n",
              " ['S208_whistle_2_Potter.wav', 'Potter'],\n",
              " ['S210_hum_1_Potter.wav', 'Potter'],\n",
              " ['S209_hum_2_Potter.wav', 'Potter'],\n",
              " ['S207_hum_2_Potter.wav', 'Potter'],\n",
              " ['S212_hum_2_Potter.wav', 'Potter'],\n",
              " ['S213_hum_2_Potter.wav', 'Potter'],\n",
              " ['S214_hum_2_Potter.wav', 'Potter'],\n",
              " ['S212_hum_1_Potter.wav', 'Potter'],\n",
              " ['S213_whistle_2_Potter.wav', 'Potter'],\n",
              " ['S217_whistle_2_Potter.wav', 'Potter'],\n",
              " ['S216_hum_1_Potter.wav', 'Potter'],\n",
              " ['S218_hum_2_Potter.wav', 'Potter'],\n",
              " ['S215_whistle_2_Potter.wav', 'Potter'],\n",
              " ['S216_hum_2_Potter.wav', 'Potter'],\n",
              " ['S215_hum_2_Potter.wav', 'Potter'],\n",
              " ['S217_hum_2_Potter.wav', 'Potter'],\n",
              " ['S214_whistle_2_Potter.wav', 'Potter'],\n",
              " ['S218_whistle_2_Potter.wav', 'Potter'],\n",
              " ['S219_hum_2_Potter.wav', 'Potter'],\n",
              " ['S221_hum_2_Potter.wav', 'Potter'],\n",
              " ['S219_hum_1_Potter.wav', 'Potter'],\n",
              " ['S222_hum_2_Potter.wav', 'Potter'],\n",
              " ['S221_whistle_2_Potter.wav', 'Potter'],\n",
              " ['S222_whistle_2_Potter.wav', 'Potter'],\n",
              " ['S24_whistle_2_StarWars.wav', 'StarWars'],\n",
              " ['S32_whistle_2_StarWars.wav', 'StarWars'],\n",
              " ['S29_whistle_2_StarWars.wav', 'StarWars'],\n",
              " ['S34_whistle_2_StarWars.wav', 'StarWars'],\n",
              " ['S43_whistle_2_StarWars.wav', 'StarWars'],\n",
              " ['S39_whistle_2_StarWars.wav', 'StarWars'],\n",
              " ['S44_whistle_2_StarWars.wav', 'StarWars'],\n",
              " ['S40_whistle_2_StarWars.wav', 'StarWars'],\n",
              " ['S45_whistle_2_StarWars.wav', 'StarWars'],\n",
              " ['S50_whistle_2_StarWars.wav', 'StarWars'],\n",
              " ['S48_Whistle_2_StarWars.wav', 'StarWars'],\n",
              " ['S52_whistle_2_StarWars.wav', 'StarWars'],\n",
              " ['S54_whistle_2_StarWars.wav', 'StarWars'],\n",
              " ['S56_whistle_2_StarWars.wav', 'StarWars'],\n",
              " ['S57_whistle_2_StarWars.wav', 'StarWars'],\n",
              " ['S68_whistle_2_StarWars.wav', 'StarWars'],\n",
              " ['S67_whistle_2_StarWars.wav', 'StarWars'],\n",
              " ['S66_whistle_2_StarWars.wav', 'StarWars'],\n",
              " ['S64_whistle_2_StarWars.wav', 'StarWars'],\n",
              " ['S76_whistle_2_StarWars.wav', 'StarWars'],\n",
              " ['S75_whistle_2_StarWars.wav', 'StarWars'],\n",
              " ['S78_hum_2_StarWars.wav', 'StarWars'],\n",
              " ['S76_hum_2_StarWars.wav', 'StarWars'],\n",
              " ['S77_hum_2_StarWars.wav', 'StarWars'],\n",
              " ['S77_whistle_2_StarWars.wav', 'StarWars'],\n",
              " ['S84_hum_4_StarWars.wav', 'StarWars'],\n",
              " ['S84_hum_3_StarWars.wav', 'StarWars'],\n",
              " ['S78_whistle_2_StarWars.wav', 'StarWars'],\n",
              " ['S80_whistle_2_StarWars.wav', 'StarWars'],\n",
              " ['S80_hum_2_StarWars.wav', 'StarWars'],\n",
              " ['S87_hum_2_StarWars.wav', 'StarWars'],\n",
              " ['S86_hum_3_StarWars.wav', 'StarWars'],\n",
              " ['S86_hum_4_StarWars.wav', 'StarWars'],\n",
              " ['S87_whistle_2_StarWars.wav', 'StarWars'],\n",
              " ['S89_whistle_2_StarWars.wav', 'StarWars'],\n",
              " ['S89_hum_2_StarWars.wav', 'StarWars'],\n",
              " ['S92_Hum_2_StarWars.wav', 'StarWars'],\n",
              " ['S90_hum_2_StarWars.wav', 'StarWars'],\n",
              " ['S90_whistle_2_StarWars.wav', 'StarWars'],\n",
              " ['S91_hum_2_StarWars.wav', 'StarWars'],\n",
              " ['S91_whistle_2_StarWars.wav', 'StarWars'],\n",
              " ['S97_hum_3_StarWars.wav', 'StarWars'],\n",
              " ['S92_Hum_3_StarWars.wav', 'StarWars'],\n",
              " ['S93_whistle_2_StarWars.wav', 'StarWars'],\n",
              " ['S95_Whistle_1_StarWars.wav', 'StarWars'],\n",
              " ['S94_whistle_2_StarWars.wav', 'StarWars'],\n",
              " ['S94_hum_2_StarWars.wav', 'StarWars'],\n",
              " ['S93_hum_2_StarWars.wav', 'StarWars'],\n",
              " ['S95_Hum_1_StarWars.wav', 'StarWars'],\n",
              " ['S101_hum_4_StarWars.wav', 'StarWars'],\n",
              " ['S101_hum_3_StarWars.wav', 'StarWars'],\n",
              " ['S97_hum_4_StarWars.wav', 'StarWars'],\n",
              " ['S107_hum_2_Starwars.wav', 'Starwars'],\n",
              " ['S104_Hum_4_StarWars.wav', 'StarWars'],\n",
              " ['S105_whistle_2_StarWars.wav', 'StarWars'],\n",
              " ['S103_whistle_2_StarWars.wav', 'StarWars'],\n",
              " ['S103_hum_2_StarWars.wav', 'StarWars'],\n",
              " ['S104_Hum_3_StarWars.wav', 'StarWars'],\n",
              " ['S107_whistle_2_StarWars.wav', 'StarWars'],\n",
              " ['S110_hum_4_StarWars.wav', 'StarWars'],\n",
              " ['S111_hum_4_StarWars.wav', 'StarWars'],\n",
              " ['S110_hum_3_StarWars.wav', 'StarWars'],\n",
              " ['S111_hum_3_StarWars.wav', 'StarWars'],\n",
              " ['S108_whistle_2_StarWars.wav', 'StarWars'],\n",
              " ['S108_hum_2_StarWars.wav', 'StarWars'],\n",
              " ['S115_hum_2_StarWars.wav', 'StarWars'],\n",
              " ['S201_hum_4_StarWars.wav', 'StarWars'],\n",
              " ['S203_whistle_2_StarWars.wav', 'StarWars'],\n",
              " ['S202_hum_4_Starwars.wav', 'Starwars'],\n",
              " ['S203_hum_2_StarWars.wav', 'StarWars'],\n",
              " ['S202_hum_3_Starwars.wav', 'Starwars'],\n",
              " ['S204_whistle_2_StarWars.wav', 'StarWars'],\n",
              " ['S204_hum_2_StarWars.wav', 'StarWars'],\n",
              " ['S208_whistle_2_StarWars.wav', 'StarWars'],\n",
              " ['S205_Hum_4_StarWars.wav', 'StarWars'],\n",
              " ['S207_hum_2_StarWars.wav', 'StarWars'],\n",
              " ['S205_Hum_3_StarWars.wav', 'StarWars'],\n",
              " ['S208_hum_2_StarWars.wav', 'StarWars'],\n",
              " ['S207_whistle_2_StarWars.wav', 'StarWars'],\n",
              " ['S206_hum_4_StarWars.wav', 'StarWars'],\n",
              " ['S206_hum_3_StarWars.wav', 'StarWars'],\n",
              " ['S209_whistle_2_StarWars.wav', 'StarWars'],\n",
              " ['S209_hum_2_StarWars.wav', 'StarWars'],\n",
              " ['S210_hum_3_StarWars.wav', 'StarWars'],\n",
              " ['S210_hum_4_StarWars.wav', 'StarWars'],\n",
              " ['S212_hum_3_StarWars.wav', 'StarWars'],\n",
              " ['S212_hum_4_StarWars.wav', 'StarWars'],\n",
              " ['S213_hum_2_StarWars.wav', 'StarWars'],\n",
              " ['S215_whistle_2_StarWars.wav', 'StarWars'],\n",
              " ['S214_hum_2_StarWars.wav', 'StarWars'],\n",
              " ['S215_hum_2_StarWars.wav', 'StarWars'],\n",
              " ['S213_whistle_2_StarWars.wav', 'StarWars'],\n",
              " ['S214_whistle_2_StarWars.wav', 'StarWars'],\n",
              " ['S217_hum_2_StarWars.wav', 'StarWars'],\n",
              " ['S217_whistle_2_StarWars.wav', 'StarWars'],\n",
              " ['S216_hum_3_StarWars.wav', 'StarWars'],\n",
              " ['S218_hum_2_StarWars.wav', 'StarWars'],\n",
              " ['S216_hum_4_StarWars.wav', 'StarWars'],\n",
              " ['S219_hum_4_StarWars.wav', 'StarWars'],\n",
              " ['S219_hum_3_StarWars.wav', 'StarWars'],\n",
              " ['S218_whistle_2_StarWars.wav', 'StarWars'],\n",
              " ['S222_whistle_2_StarWars.wav', 'StarWars'],\n",
              " ['S222_hum_2_StarWars.wav', 'StarWars'],\n",
              " ['S221_hum_2_StarWars.wav', 'StarWars'],\n",
              " ['S211_hum_1_Potter.wav', 'Potter'],\n",
              " ['S211_hum_2_Potter.wav', 'Potter'],\n",
              " ['S211_hum_3_StarWars.wav', 'StarWars'],\n",
              " ['S211_hum_4_StarWars.wav', 'StarWars'],\n",
              " ['S106_hum_1_Potter.wav', 'Potter'],\n",
              " ['S106_hum_2_Potter.wav', 'Potter'],\n",
              " ['S106_hum_3_StarWars.wav', 'StarWars'],\n",
              " ['S106_hum_4_StarWars.wav', 'StarWars'],\n",
              " ['S221_hum_1_StarWars.wav', 'StarWars']]"
            ]
          },
          "metadata": {},
          "execution_count": 8
        }
      ]
    },
    {
      "cell_type": "markdown",
      "source": [
        "creating dataframe and making file name as its index"
      ],
      "metadata": {
        "id": "OwnrIx5e0gxl"
      }
    },
    {
      "cell_type": "code",
      "source": [
        "MLENDHW_df = pd.DataFrame(MLENDHW_table,columns=['file_id','song']).set_index('file_id') \n",
        "MLENDHW_df"
      ],
      "metadata": {
        "colab": {
          "base_uri": "https://localhost:8080/",
          "height": 455
        },
        "id": "5pKAdOWI6m7Q",
        "outputId": "e19555f2-5f6c-403e-8740-899da0c5b089"
      },
      "execution_count": null,
      "outputs": [
        {
          "output_type": "execute_result",
          "data": {
            "text/html": [
              "<div>\n",
              "<style scoped>\n",
              "    .dataframe tbody tr th:only-of-type {\n",
              "        vertical-align: middle;\n",
              "    }\n",
              "\n",
              "    .dataframe tbody tr th {\n",
              "        vertical-align: top;\n",
              "    }\n",
              "\n",
              "    .dataframe thead th {\n",
              "        text-align: right;\n",
              "    }\n",
              "</style>\n",
              "<table border=\"1\" class=\"dataframe\">\n",
              "  <thead>\n",
              "    <tr style=\"text-align: right;\">\n",
              "      <th></th>\n",
              "      <th>song</th>\n",
              "    </tr>\n",
              "    <tr>\n",
              "      <th>file_id</th>\n",
              "      <th></th>\n",
              "    </tr>\n",
              "  </thead>\n",
              "  <tbody>\n",
              "    <tr>\n",
              "      <th>S24_whistle_2_Potter.wav</th>\n",
              "      <td>Potter</td>\n",
              "    </tr>\n",
              "    <tr>\n",
              "      <th>S29_whistle_2_Potter.wav</th>\n",
              "      <td>Potter</td>\n",
              "    </tr>\n",
              "    <tr>\n",
              "      <th>S34_whistle_2_Potter.wav</th>\n",
              "      <td>Potter</td>\n",
              "    </tr>\n",
              "    <tr>\n",
              "      <th>S32_whistle_2_Potter.wav</th>\n",
              "      <td>Potter</td>\n",
              "    </tr>\n",
              "    <tr>\n",
              "      <th>S40_whistle_2_Potter.wav</th>\n",
              "      <td>Potter</td>\n",
              "    </tr>\n",
              "    <tr>\n",
              "      <th>...</th>\n",
              "      <td>...</td>\n",
              "    </tr>\n",
              "    <tr>\n",
              "      <th>S106_hum_1_Potter.wav</th>\n",
              "      <td>Potter</td>\n",
              "    </tr>\n",
              "    <tr>\n",
              "      <th>S106_hum_2_Potter.wav</th>\n",
              "      <td>Potter</td>\n",
              "    </tr>\n",
              "    <tr>\n",
              "      <th>S106_hum_3_StarWars.wav</th>\n",
              "      <td>StarWars</td>\n",
              "    </tr>\n",
              "    <tr>\n",
              "      <th>S106_hum_4_StarWars.wav</th>\n",
              "      <td>StarWars</td>\n",
              "    </tr>\n",
              "    <tr>\n",
              "      <th>S221_hum_1_StarWars.wav</th>\n",
              "      <td>StarWars</td>\n",
              "    </tr>\n",
              "  </tbody>\n",
              "</table>\n",
              "<p>219 rows × 1 columns</p>\n",
              "</div>"
            ],
            "text/plain": [
              "                              song\n",
              "file_id                           \n",
              "S24_whistle_2_Potter.wav    Potter\n",
              "S29_whistle_2_Potter.wav    Potter\n",
              "S34_whistle_2_Potter.wav    Potter\n",
              "S32_whistle_2_Potter.wav    Potter\n",
              "S40_whistle_2_Potter.wav    Potter\n",
              "...                            ...\n",
              "S106_hum_1_Potter.wav       Potter\n",
              "S106_hum_2_Potter.wav       Potter\n",
              "S106_hum_3_StarWars.wav   StarWars\n",
              "S106_hum_4_StarWars.wav   StarWars\n",
              "S221_hum_1_StarWars.wav   StarWars\n",
              "\n",
              "[219 rows x 1 columns]"
            ]
          },
          "metadata": {},
          "execution_count": 9
        }
      ]
    },
    {
      "cell_type": "markdown",
      "source": [
        "converting values of song column to uppercase"
      ],
      "metadata": {
        "id": "iq71L2DL0rGW"
      }
    },
    {
      "cell_type": "code",
      "source": [
        "MLENDHW_df['song'] = MLENDHW_df['song'].str.upper()\n",
        "MLENDHW_df"
      ],
      "metadata": {
        "colab": {
          "base_uri": "https://localhost:8080/",
          "height": 455
        },
        "id": "uJrl5bie6r89",
        "outputId": "a9fb58ca-4cf0-4fd5-de27-cf22557a4338"
      },
      "execution_count": null,
      "outputs": [
        {
          "output_type": "execute_result",
          "data": {
            "text/html": [
              "<div>\n",
              "<style scoped>\n",
              "    .dataframe tbody tr th:only-of-type {\n",
              "        vertical-align: middle;\n",
              "    }\n",
              "\n",
              "    .dataframe tbody tr th {\n",
              "        vertical-align: top;\n",
              "    }\n",
              "\n",
              "    .dataframe thead th {\n",
              "        text-align: right;\n",
              "    }\n",
              "</style>\n",
              "<table border=\"1\" class=\"dataframe\">\n",
              "  <thead>\n",
              "    <tr style=\"text-align: right;\">\n",
              "      <th></th>\n",
              "      <th>song</th>\n",
              "    </tr>\n",
              "    <tr>\n",
              "      <th>file_id</th>\n",
              "      <th></th>\n",
              "    </tr>\n",
              "  </thead>\n",
              "  <tbody>\n",
              "    <tr>\n",
              "      <th>S24_whistle_2_Potter.wav</th>\n",
              "      <td>POTTER</td>\n",
              "    </tr>\n",
              "    <tr>\n",
              "      <th>S29_whistle_2_Potter.wav</th>\n",
              "      <td>POTTER</td>\n",
              "    </tr>\n",
              "    <tr>\n",
              "      <th>S34_whistle_2_Potter.wav</th>\n",
              "      <td>POTTER</td>\n",
              "    </tr>\n",
              "    <tr>\n",
              "      <th>S32_whistle_2_Potter.wav</th>\n",
              "      <td>POTTER</td>\n",
              "    </tr>\n",
              "    <tr>\n",
              "      <th>S40_whistle_2_Potter.wav</th>\n",
              "      <td>POTTER</td>\n",
              "    </tr>\n",
              "    <tr>\n",
              "      <th>...</th>\n",
              "      <td>...</td>\n",
              "    </tr>\n",
              "    <tr>\n",
              "      <th>S106_hum_1_Potter.wav</th>\n",
              "      <td>POTTER</td>\n",
              "    </tr>\n",
              "    <tr>\n",
              "      <th>S106_hum_2_Potter.wav</th>\n",
              "      <td>POTTER</td>\n",
              "    </tr>\n",
              "    <tr>\n",
              "      <th>S106_hum_3_StarWars.wav</th>\n",
              "      <td>STARWARS</td>\n",
              "    </tr>\n",
              "    <tr>\n",
              "      <th>S106_hum_4_StarWars.wav</th>\n",
              "      <td>STARWARS</td>\n",
              "    </tr>\n",
              "    <tr>\n",
              "      <th>S221_hum_1_StarWars.wav</th>\n",
              "      <td>STARWARS</td>\n",
              "    </tr>\n",
              "  </tbody>\n",
              "</table>\n",
              "<p>219 rows × 1 columns</p>\n",
              "</div>"
            ],
            "text/plain": [
              "                              song\n",
              "file_id                           \n",
              "S24_whistle_2_Potter.wav    POTTER\n",
              "S29_whistle_2_Potter.wav    POTTER\n",
              "S34_whistle_2_Potter.wav    POTTER\n",
              "S32_whistle_2_Potter.wav    POTTER\n",
              "S40_whistle_2_Potter.wav    POTTER\n",
              "...                            ...\n",
              "S106_hum_1_Potter.wav       POTTER\n",
              "S106_hum_2_Potter.wav       POTTER\n",
              "S106_hum_3_StarWars.wav   STARWARS\n",
              "S106_hum_4_StarWars.wav   STARWARS\n",
              "S221_hum_1_StarWars.wav   STARWARS\n",
              "\n",
              "[219 rows x 1 columns]"
            ]
          },
          "metadata": {},
          "execution_count": 10
        }
      ]
    },
    {
      "cell_type": "markdown",
      "source": [
        "Feature extraction - function below is used to get pitch of an audio signal."
      ],
      "metadata": {
        "id": "Krlmkmdt0uIz"
      }
    },
    {
      "cell_type": "code",
      "source": [
        "def getPitch(x,fs,winLen=0.02):\n",
        "  #winLen = 0.02 \n",
        "  p = winLen*fs\n",
        "  frame_length = int(2**int(p-1).bit_length())\n",
        "  hop_length = frame_length//2\n",
        "  f0, voiced_flag, voiced_probs = librosa.pyin(y=x, fmin=80, fmax=450, sr=fs,\n",
        "                                                 frame_length=frame_length,hop_length=hop_length)\n",
        "  return f0,voiced_flag"
      ],
      "metadata": {
        "id": "wEFdvqJ36viw"
      },
      "execution_count": null,
      "outputs": []
    },
    {
      "cell_type": "markdown",
      "source": [
        "Function to return predictor and label after looping through each sample."
      ],
      "metadata": {
        "id": "0YB3TIv91Zd2"
      }
    },
    {
      "cell_type": "code",
      "source": [
        "def getXy(files,labels_file, scale_audio=False, onlySingleDigit=False):\n",
        "  X,y =[],[]\n",
        "  for file in tqdm(files):\n",
        "    fileID = file.split('/')[-1]        \n",
        "    yi = labels_file.loc[fileID]['song']=='POTTER'\n",
        "    fs = None # if None, fs would be 22050\n",
        "    x, fs = librosa.load(file,sr=fs)\n",
        "    if scale_audio: x = x/np.max(np.abs(x))\n",
        "    f0, voiced_flag = getPitch(x,fs,winLen=0.02)\n",
        "      \n",
        "    power = np.sum(x**2)/len(x)\n",
        "    pitch_mean = np.nanmean(f0) if np.mean(np.isnan(f0))<1 else 0\n",
        "    pitch_std  = np.nanstd(f0) if np.mean(np.isnan(f0))<1 else 0\n",
        "    voiced_fr = np.mean(voiced_flag)\n",
        "\n",
        "    xi = [power,pitch_mean,pitch_std,voiced_fr]\n",
        "    X.append(xi)\n",
        "    y.append(yi)\n",
        "\n",
        "  return np.array(X),np.array(y)"
      ],
      "metadata": {
        "id": "LFPunX2F67HK"
      },
      "execution_count": null,
      "outputs": []
    },
    {
      "cell_type": "code",
      "source": [
        "X,y=getXy(files, labels_file=MLENDHW_df, scale_audio=True, onlySingleDigit=True)"
      ],
      "metadata": {
        "colab": {
          "base_uri": "https://localhost:8080/"
        },
        "id": "9ryLIpTe7GU2",
        "outputId": "d102b97e-c166-477e-cfad-7e9f37560e47"
      },
      "execution_count": null,
      "outputs": [
        {
          "output_type": "stream",
          "name": "stderr",
          "text": [
            "100%|██████████| 219/219 [11:43<00:00,  3.21s/it]\n"
          ]
        }
      ]
    },
    {
      "cell_type": "markdown",
      "source": [
        "Below dataframe contains the four features values and label for each sample."
      ],
      "metadata": {
        "id": "IJkOHOAn1tY1"
      }
    },
    {
      "cell_type": "markdown",
      "source": [
        "# 7 Dataset\n",
        "\n",
        "I splited the original dataset of 219 audio into training to train the model and test to validate its accuracy."
      ],
      "metadata": {
        "id": "5rtFjFpyYgns"
      }
    },
    {
      "cell_type": "markdown",
      "source": [
        "Below dataframe contains the 4 features values and label for each sample."
      ],
      "metadata": {
        "id": "8QyZWzZQYtNG"
      }
    },
    {
      "cell_type": "code",
      "source": [
        "df_features = pd.DataFrame(X,columns=['feature_1','feature_2','feature_3','feature_4'])\n",
        "df_features['labels']=y\n",
        "df_features"
      ],
      "metadata": {
        "colab": {
          "base_uri": "https://localhost:8080/",
          "height": 424
        },
        "id": "ESGCCCAj7al_",
        "outputId": "6b1d8046-f81a-4dab-cc38-13a6280122a0"
      },
      "execution_count": null,
      "outputs": [
        {
          "output_type": "execute_result",
          "data": {
            "text/html": [
              "<div>\n",
              "<style scoped>\n",
              "    .dataframe tbody tr th:only-of-type {\n",
              "        vertical-align: middle;\n",
              "    }\n",
              "\n",
              "    .dataframe tbody tr th {\n",
              "        vertical-align: top;\n",
              "    }\n",
              "\n",
              "    .dataframe thead th {\n",
              "        text-align: right;\n",
              "    }\n",
              "</style>\n",
              "<table border=\"1\" class=\"dataframe\">\n",
              "  <thead>\n",
              "    <tr style=\"text-align: right;\">\n",
              "      <th></th>\n",
              "      <th>feature_1</th>\n",
              "      <th>feature_2</th>\n",
              "      <th>feature_3</th>\n",
              "      <th>feature_4</th>\n",
              "      <th>labels</th>\n",
              "    </tr>\n",
              "  </thead>\n",
              "  <tbody>\n",
              "    <tr>\n",
              "      <th>0</th>\n",
              "      <td>0.019528</td>\n",
              "      <td>401.377634</td>\n",
              "      <td>34.522270</td>\n",
              "      <td>0.544214</td>\n",
              "      <td>True</td>\n",
              "    </tr>\n",
              "    <tr>\n",
              "      <th>1</th>\n",
              "      <td>0.011814</td>\n",
              "      <td>396.268476</td>\n",
              "      <td>33.924044</td>\n",
              "      <td>0.542453</td>\n",
              "      <td>True</td>\n",
              "    </tr>\n",
              "    <tr>\n",
              "      <th>2</th>\n",
              "      <td>0.025150</td>\n",
              "      <td>413.732772</td>\n",
              "      <td>20.644287</td>\n",
              "      <td>0.551938</td>\n",
              "      <td>True</td>\n",
              "    </tr>\n",
              "    <tr>\n",
              "      <th>3</th>\n",
              "      <td>0.055641</td>\n",
              "      <td>410.810178</td>\n",
              "      <td>23.655076</td>\n",
              "      <td>0.759193</td>\n",
              "      <td>True</td>\n",
              "    </tr>\n",
              "    <tr>\n",
              "      <th>4</th>\n",
              "      <td>0.004164</td>\n",
              "      <td>393.561321</td>\n",
              "      <td>32.013405</td>\n",
              "      <td>0.651045</td>\n",
              "      <td>True</td>\n",
              "    </tr>\n",
              "    <tr>\n",
              "      <th>...</th>\n",
              "      <td>...</td>\n",
              "      <td>...</td>\n",
              "      <td>...</td>\n",
              "      <td>...</td>\n",
              "      <td>...</td>\n",
              "    </tr>\n",
              "    <tr>\n",
              "      <th>214</th>\n",
              "      <td>0.183165</td>\n",
              "      <td>237.172077</td>\n",
              "      <td>60.371162</td>\n",
              "      <td>0.913846</td>\n",
              "      <td>True</td>\n",
              "    </tr>\n",
              "    <tr>\n",
              "      <th>215</th>\n",
              "      <td>0.077045</td>\n",
              "      <td>218.721353</td>\n",
              "      <td>58.457676</td>\n",
              "      <td>0.911402</td>\n",
              "      <td>True</td>\n",
              "    </tr>\n",
              "    <tr>\n",
              "      <th>216</th>\n",
              "      <td>0.060811</td>\n",
              "      <td>219.751489</td>\n",
              "      <td>50.264046</td>\n",
              "      <td>0.874325</td>\n",
              "      <td>False</td>\n",
              "    </tr>\n",
              "    <tr>\n",
              "      <th>217</th>\n",
              "      <td>0.082059</td>\n",
              "      <td>223.939810</td>\n",
              "      <td>51.127465</td>\n",
              "      <td>0.830621</td>\n",
              "      <td>False</td>\n",
              "    </tr>\n",
              "    <tr>\n",
              "      <th>218</th>\n",
              "      <td>0.028499</td>\n",
              "      <td>241.701798</td>\n",
              "      <td>20.043909</td>\n",
              "      <td>0.911170</td>\n",
              "      <td>False</td>\n",
              "    </tr>\n",
              "  </tbody>\n",
              "</table>\n",
              "<p>219 rows × 5 columns</p>\n",
              "</div>"
            ],
            "text/plain": [
              "     feature_1   feature_2  feature_3  feature_4  labels\n",
              "0     0.019528  401.377634  34.522270   0.544214    True\n",
              "1     0.011814  396.268476  33.924044   0.542453    True\n",
              "2     0.025150  413.732772  20.644287   0.551938    True\n",
              "3     0.055641  410.810178  23.655076   0.759193    True\n",
              "4     0.004164  393.561321  32.013405   0.651045    True\n",
              "..         ...         ...        ...        ...     ...\n",
              "214   0.183165  237.172077  60.371162   0.913846    True\n",
              "215   0.077045  218.721353  58.457676   0.911402    True\n",
              "216   0.060811  219.751489  50.264046   0.874325   False\n",
              "217   0.082059  223.939810  51.127465   0.830621   False\n",
              "218   0.028499  241.701798  20.043909   0.911170   False\n",
              "\n",
              "[219 rows x 5 columns]"
            ]
          },
          "metadata": {},
          "execution_count": 14
        }
      ]
    },
    {
      "cell_type": "markdown",
      "source": [
        "shape of predictor and label"
      ],
      "metadata": {
        "id": "njrVXSC_2GEP"
      }
    },
    {
      "cell_type": "code",
      "source": [
        "print('The shape of X is', X.shape) \n",
        "print('The shape of y is', y.shape)"
      ],
      "metadata": {
        "colab": {
          "base_uri": "https://localhost:8080/"
        },
        "id": "RuuYPb-O7jnJ",
        "outputId": "6a8e3c4a-e104-4410-c16f-1f54c3178f79"
      },
      "execution_count": null,
      "outputs": [
        {
          "output_type": "stream",
          "name": "stdout",
          "text": [
            "The shape of X is (219, 4)\n",
            "The shape of y is (219,)\n"
          ]
        }
      ]
    },
    {
      "cell_type": "code",
      "source": [
        "#from sklearn.preprocessing import StandardScaler\n",
        "#scaler = StandardScaler()\n",
        "#Xs = scaler.fit_transform(X)"
      ],
      "metadata": {
        "id": "YRLIYo5m5qiK"
      },
      "execution_count": null,
      "outputs": []
    },
    {
      "cell_type": "markdown",
      "source": [
        "count of each class"
      ],
      "metadata": {
        "id": "9oDQ03de2L7h"
      }
    },
    {
      "cell_type": "code",
      "source": [
        "print(' The number of Potter recordings is ', np.count_nonzero(y))\n",
        "print(' The number of Starwars recordings is ', y.size - np.count_nonzero(y))"
      ],
      "metadata": {
        "colab": {
          "base_uri": "https://localhost:8080/"
        },
        "id": "ivC9yPOq7nLJ",
        "outputId": "00d3dbbd-5131-4230-f325-a39704b6bdc0"
      },
      "execution_count": null,
      "outputs": [
        {
          "output_type": "stream",
          "name": "stdout",
          "text": [
            " The number of Potter recordings is  110\n",
            " The number of Starwars recordings is  109\n"
          ]
        }
      ]
    },
    {
      "cell_type": "markdown",
      "source": [
        "Split the data into training and testing (70:30 ratio)"
      ],
      "metadata": {
        "id": "s9BoS-vW2X0l"
      }
    },
    {
      "cell_type": "code",
      "source": [
        "\n",
        "from sklearn.model_selection import train_test_split\n",
        "\n",
        "X_train, X_test, y_train, y_test = train_test_split(X,y,test_size=0.3)\n",
        "X_train.shape, X_test.shape, y_train.shape, y_test.shape"
      ],
      "metadata": {
        "colab": {
          "base_uri": "https://localhost:8080/"
        },
        "id": "mUmNLftb7qpA",
        "outputId": "ff88b0a9-dc1e-4d60-cabf-456715e4df6c"
      },
      "execution_count": null,
      "outputs": [
        {
          "output_type": "execute_result",
          "data": {
            "text/plain": [
              "((153, 4), (66, 4), (153,), (66,))"
            ]
          },
          "metadata": {},
          "execution_count": 38
        }
      ]
    },
    {
      "cell_type": "markdown",
      "source": [
        "class GridSearchCV offers a convenient way to choose hyperparameters based on cross-validation. its constructor receives a classification algorithm object and a dictionary that maps hyperparameter names to lists of values that should be considered and parameter cv controls the number of folds K."
      ],
      "metadata": {
        "id": "ANMPLqxbA_5X"
      }
    },
    {
      "cell_type": "code",
      "source": [
        "from sklearn.neighbors import KNeighborsClassifier\n",
        "from sklearn.model_selection import GridSearchCV\n",
        "\n",
        "parameters = {'n_neighbors': [3,4,5]}\n",
        "\n",
        "knn = KNeighborsClassifier()\n",
        "knn_cv = GridSearchCV(knn, parameters, cv=5)\n",
        "knn_cv.fit(X_train, y_train)\n",
        "\n"
      ],
      "metadata": {
        "colab": {
          "base_uri": "https://localhost:8080/"
        },
        "id": "0XFvQG619qhE",
        "outputId": "563e4fc8-8d74-46e0-93aa-afd4f659d47a"
      },
      "execution_count": null,
      "outputs": [
        {
          "output_type": "execute_result",
          "data": {
            "text/plain": [
              "GridSearchCV(cv=5, estimator=KNeighborsClassifier(),\n",
              "             param_grid={'n_neighbors': [3, 4, 5]})"
            ]
          },
          "metadata": {},
          "execution_count": 46
        }
      ]
    },
    {
      "cell_type": "markdown",
      "source": [
        "# 8 Results\n",
        "\n",
        "GridsearchCV gives the best hyperparameter setting and training and testing accuracy. Here, Knn with parameter of n_neighbours = 4 is turning out to be best fit."
      ],
      "metadata": {
        "id": "w3yHF73LAlj4"
      }
    },
    {
      "cell_type": "code",
      "source": [
        "print('Best hyperparameter setting: {0}.'.format(knn_cv.best_estimator_))\n",
        "print('Training dataset accuracy of best hyperparameter setting: {0}.'.format(knn_cv.score(X_train, y_train)))\n",
        "print('Test dataset accuracy of best hyperparameter setting: {0}.'.format(knn_cv.score(X_test, y_test)))"
      ],
      "metadata": {
        "colab": {
          "base_uri": "https://localhost:8080/"
        },
        "id": "9INjQPKlAk9o",
        "outputId": "a9053722-3d22-4667-9777-6eba76238105"
      },
      "execution_count": null,
      "outputs": [
        {
          "output_type": "stream",
          "name": "stdout",
          "text": [
            "Best hyperparameter setting: KNeighborsClassifier(n_neighbors=4).\n",
            "Training dataset accuracy of best hyperparameter setting: 0.7647058823529411.\n",
            "Test dataset accuracy of best hyperparameter setting: 0.696969696969697.\n"
          ]
        }
      ]
    },
    {
      "cell_type": "markdown",
      "source": [
        "# 9 Conclusions\n",
        "\n",
        "Test accuracy of knn classifier (n_neighbours = 4) is 69%, model is not giving  high accuracy , also training accuracy is also not high, that may signify that model is underfitting , and  may require further exploration in terms of feature extraction and complex model selection."
      ],
      "metadata": {
        "id": "xyJlhO3nCh5l"
      }
    }
  ]
}